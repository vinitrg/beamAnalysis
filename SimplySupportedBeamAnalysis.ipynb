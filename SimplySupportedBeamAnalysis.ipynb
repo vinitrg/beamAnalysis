{
 "cells": [
  {
   "cell_type": "code",
   "execution_count": null,
   "metadata": {
    "colab": {},
    "colab_type": "code",
    "id": "gTJwyBtUr7Nb"
   },
   "outputs": [],
   "source": [
    "import pandas as pd\n",
    "import numpy as np\n",
    "import matplotlib.pyplot as plt\n",
    "from MemberAnalysis.BeamMember import Beam\n"
   ]
  },
  {
   "cell_type": "code",
   "execution_count": null,
   "metadata": {},
   "outputs": [],
   "source": [
    "ThisBeam = Beam(10)\n",
    "\n",
    "loadDist =[10,12,14,15]\n",
    "loadIntensities = [100,50,50,60]\n",
    "ThisBeam.SetLoads(loadDist, loadIntensities)\n",
    "\n",
    "print(ThisBeam.Loads[1].Intensity)\n"
   ]
  },
  {
   "cell_type": "code",
   "execution_count": null,
   "metadata": {
    "colab": {
     "base_uri": "https://localhost:8080/",
     "height": 351
    },
    "colab_type": "code",
    "id": "EOANKEvs7xY5",
    "outputId": "f11160b7-b205-44e7-ff07-c08bba26a0df"
   },
   "outputs": [],
   "source": [
    "def calcReactions(loadIntensity, a, length):\n",
    "    rightReactions = 0\n",
    "    leftReactions = 0.2\n",
    "    for index in range(0,len(loadIntensity)):\n",
    "        rightReaction = loadIntensity[index]*a[index] / length\n",
    "        leftReaction = loadIntensity[index] - rightReaction\n",
    "        rightReactions += rightReaction\n",
    "        leftReactions += leftReaction\n",
    "    \n",
    "    return(leftReactions,rightReactions)\n",
    "\n",
    "def GetNormalisedValues(loadIntensity):\n",
    "    normalisationValue = max(loadIntensity)\n",
    "    return 10/normalisationValue\n",
    "\n",
    "loadDist =[10,12,14,15]\n",
    "loadIntensities = [100,50,50,60]\n",
    "spanLength = 20\n",
    "leftReaction, rightReaction = calcReactions(loadIntensities,loadDist,spanLength)\n",
    "allForces = loadIntensities\n",
    "allForces.append(leftReaction)\n",
    "allForces.append(rightReaction)\n",
    "\n",
    "normalisationValue = GetNormalisedValues(allForces)\n",
    "\n",
    "suppReactionList = []\n",
    "suppReactionDistList = []\n",
    "suppReactionDistList.append(0)\n",
    "suppReactionList.append(leftReaction)\n",
    "suppReactionDistList.append(spanLength)\n",
    "suppReactionList.append(rightReaction)\n",
    "\n",
    "\n",
    "fig = plt.figure()\n",
    "ax = plt.axes()\n",
    "LoadingDia = LoadingDiagram(normalisationValue)\n",
    "LoadingDia.DrawBoundingBox(ax, spanLength,max(allForces))\n",
    "LoadingDia.DrawSpan(ax, spanLength)\n",
    "LoadingDia.DrawLoadsAndReactions(ax, loadDist, loadIntensities, False)\n",
    "LoadingDia.DrawLoadsAndReactions(ax, suppReactionDistList, suppReactionList, True)\n",
    "\n",
    "plt.show()"
   ]
  },
  {
   "cell_type": "code",
   "execution_count": null,
   "metadata": {},
   "outputs": [],
   "source": []
  },
  {
   "cell_type": "code",
   "execution_count": null,
   "metadata": {},
   "outputs": [],
   "source": []
  }
 ],
 "metadata": {
  "colab": {
   "collapsed_sections": [],
   "name": "SimplySupportedBeamAnalysi.ipynb",
   "provenance": [],
   "version": "0.3.2"
  },
  "kernelspec": {
   "display_name": "Python 3",
   "language": "python",
   "name": "python3"
  },
  "language_info": {
   "codemirror_mode": {
    "name": "ipython",
    "version": 3
   },
   "file_extension": ".py",
   "mimetype": "text/x-python",
   "name": "python",
   "nbconvert_exporter": "python",
   "pygments_lexer": "ipython3",
   "version": "3.7.0"
  }
 },
 "nbformat": 4,
 "nbformat_minor": 1
}
