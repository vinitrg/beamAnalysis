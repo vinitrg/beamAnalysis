{
 "cells": [
  {
   "cell_type": "code",
   "execution_count": 1,
   "metadata": {
    "colab": {},
    "colab_type": "code",
    "id": "gTJwyBtUr7Nb"
   },
   "outputs": [],
   "source": [
    "import pandas as pd\n",
    "import numpy as np\n",
    "import matplotlib.pyplot as plt"
   ]
  },
  {
   "cell_type": "code",
   "execution_count": 48,
   "metadata": {
    "colab": {
     "base_uri": "https://localhost:8080/",
     "height": 351
    },
    "colab_type": "code",
    "id": "EOANKEvs7xY5",
    "outputId": "f11160b7-b205-44e7-ff07-c08bba26a0df"
   },
   "outputs": [
    {
     "data": {
      "image/png": "[encoded data removed]",
      "text/plain": [
       "<Figure size 432x288 with 1 Axes>"
      ]
     },
     "metadata": {},
     "output_type": "display_data"
    }
   ],
   "source": [
    "def calcReactions(loadIntensity, a, length):\n",
    "    rightReactions = 0\n",
    "    leftReactions = 0.2\n",
    "    for index in range(0,len(loadIntensity)):\n",
    "        rightReaction = loadIntensity[index]*a[index] / length\n",
    "        leftReaction = loadIntensity[index] - rightReaction\n",
    "        rightReactions += rightReaction\n",
    "        leftReactions += leftReaction\n",
    "    \n",
    "    return(leftReactions,rightReactions)\n",
    "\n",
    "def GetNormalisedValues(loadIntensity):\n",
    "    normalisationValue = max(loadIntensity)\n",
    "    return 10/normalisationValue\n",
    "\n",
    "class PlottingClass:\n",
    "    def __init__(self,normalisedValue):\n",
    "        self.NormalisedValue = normalisedValue\n",
    "        \n",
    "  \n",
    "    def PlotBoundingBox(self,ax, beamLength,load):\n",
    "        leftBoundLim = -1*beamLength*0.2\n",
    "        rightBoundLim = beamLength*1.2\n",
    "        bottomBoundLim = -1.2*load*self.NormalisedValue\n",
    "        topBoundLim = load*self.NormalisedValue*1.2\n",
    "        ax.set_xlim(leftBoundLim,rightBoundLim)\n",
    "        ax.set_ylim(bottomBoundLim,topBoundLim)\n",
    "        ax.set_xticks([])\n",
    "        ax.set_yticks([])\n",
    "        ax.set_xlabel(\"Beam Analysis\",fontsize=24)\n",
    "    \n",
    "    def PlotSpan(self,ax,beamLength):\n",
    "        lineWidth = 1\n",
    "        ax.hlines(y=0, xmin=0, xmax=beamLength, linewidth=lineWidth, color='black')\n",
    "        ax.text(0.4*beamLength,-1.2*lineWidth,\"Length = \"+str(beamLength))\n",
    "\n",
    "    def PlotLoadsAndReactions(self,ax, dist, load, isReaction):\n",
    "        arrowHeadLength = 9*self.NormalisedValue\n",
    "        for loadIndex in range(0,len(dist)):\n",
    "            color = 'm'\n",
    "            x = dist[loadIndex]\n",
    "            dx = 0\n",
    "            y = load[loadIndex]*self.NormalisedValue\n",
    "            dy = -load[loadIndex]*self.NormalisedValue + arrowHeadLength\n",
    "            text_y = y+arrowHeadLength\n",
    "            text_x = x-arrowHeadLength\n",
    "            if isReaction:\n",
    "                color = 'b'\n",
    "                x = dist[loadIndex]\n",
    "                dx = 0\n",
    "                y = -1*load[loadIndex]*self.NormalisedValue\n",
    "                dy = load[loadIndex]*self.NormalisedValue - arrowHeadLength\n",
    "                text_y = y-arrowHeadLength*2\n",
    "            \n",
    "            ax.arrow(x, y, dx, dy, head_width=1.0, head_length=arrowHeadLength, fc=color, ec=color)\n",
    "            ax.text(text_x,text_y,str(load[loadIndex]))\n",
    "        \n",
    "\n",
    "loadDist =[10,12,14,15]\n",
    "loadIntensities = [100,50,50,60]\n",
    "spanLength = 20\n",
    "leftReaction, rightReaction = calcReactions(loadIntensities,loadDist,spanLength)\n",
    "allForces = loadIntensities\n",
    "allForces.append(leftReaction)\n",
    "allForces.append(rightReaction)\n",
    "\n",
    "normalisationValue = GetNormalisedValues(allForces)\n",
    "\n",
    "suppReactionList = []\n",
    "suppReactionDistList = []\n",
    "suppReactionDistList.append(0)\n",
    "suppReactionList.append(leftReaction)\n",
    "suppReactionDistList.append(spanLength)\n",
    "suppReactionList.append(rightReaction)\n",
    "\n",
    "\n",
    "fig = plt.figure()\n",
    "ax = plt.axes()\n",
    "BeamDiagram = PlottingClass(normalisationValue)\n",
    "BeamDiagram.PlotBoundingBox(ax, spanLength,max(allForces))\n",
    "BeamDiagram.PlotSpan(ax, spanLength)\n",
    "BeamDiagram.PlotLoadsAndReactions(ax, loadDist, loadIntensities, False)\n",
    "BeamDiagram.PlotLoadsAndReactions(ax, suppReactionDistList, suppReactionList, True)\n",
    "\n",
    "plt.show()"
   ]
  },
  {
   "cell_type": "code",
   "execution_count": null,
   "metadata": {},
   "outputs": [],
   "source": []
  }
 ],
 "metadata": {
  "colab": {
   "collapsed_sections": [],
   "name": "SimplySupportedBeamAnalysi.ipynb",
   "provenance": [],
   "version": "0.3.2"
  },
  "kernelspec": {
   "display_name": "Python 3",
   "language": "python",
   "name": "python3"
  },
  "language_info": {
   "codemirror_mode": {
    "name": "ipython",
    "version": 3
   },
   "file_extension": ".py",
   "mimetype": "text/x-python",
   "name": "python",
   "nbconvert_exporter": "python",
   "pygments_lexer": "ipython3",
   "version": "3.7.0"
  }
 },
 "nbformat": 4,
 "nbformat_minor": 1
}
